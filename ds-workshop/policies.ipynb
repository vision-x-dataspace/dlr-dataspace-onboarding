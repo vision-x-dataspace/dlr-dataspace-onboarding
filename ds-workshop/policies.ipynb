{
 "cells": [
  {
   "cell_type": "markdown",
   "metadata": {},
   "source": [
    "# Policies\n",
    "\n",
    "This is a collection of Policies that can be used in the Dataspace.\n",
    "\n",
    "There exists also a repository to get familiar with creating policies, see [EdcPolicyPlayground](https://github.com/eclipse-tractusx/tutorial-resources/tree/main/edc-policy-playground)."
   ]
  },
  {
   "cell_type": "markdown",
   "metadata": {},
   "source": [
    "## Blank Policy\n",
    "\n",
    "A policy that has no conditions."
   ]
  },
  {
   "cell_type": "code",
   "execution_count": null,
   "metadata": {},
   "outputs": [],
   "source": [
    "{\n",
    "  \"@type\": \"odrl:Set\",\n",
    "  \"odrl:permission\": [\n",
    "    {\n",
    "      \"odrl:action\": \"USE\"\n",
    "    }\n",
    "  ]\n",
    "}"
   ]
  },
  {
   "cell_type": "markdown",
   "metadata": {},
   "source": [
    "## BPN Policy\n",
    "\n",
    "A policy that requires to have a specific BPN (unique ID for Connectors in the Dataspace)."
   ]
  },
  {
   "cell_type": "code",
   "execution_count": null,
   "metadata": {},
   "outputs": [],
   "source": [
    "bpn = \"...\"\n",
    "\n",
    "{\n",
    "  \"@type\": \"odrl:Set\",\n",
    "  \"odrl:permission\": [\n",
    "    {\n",
    "      \"odrl:action\": \"USE\",\n",
    "      \"odrl:constraint\": {\n",
    "        \"odrl:or\": [\n",
    "          {\n",
    "            \"odrl:leftOperand\": \"BusinessPartnerNumber\",\n",
    "            \"odrl:operator\": {\n",
    "              \"@id\": \"odrl:eq\"\n",
    "            },\n",
    "            \"odrl:rightOperand\": bpn\n",
    "          }\n",
    "        ]\n",
    "      }\n",
    "    }\n",
    "  ]\n",
    "}"
   ]
  },
  {
   "cell_type": "markdown",
   "metadata": {},
   "source": [
    "## Time Interval Policy\n",
    "\n",
    "A policy the requires the current time for the transfer to be in a certain interval.\n",
    "\n",
    "Note: You will need to add `\"xsd\": \"http://www.w3.org/2001/XMLSchema#\"` to `@context`."
   ]
  },
  {
   "cell_type": "code",
   "execution_count": null,
   "metadata": {},
   "outputs": [],
   "source": [
    "time_from = \"2023-01-01T00:00:01Z\"\n",
    "time_to = \"2026-01-01T00:00:01Z\"\n",
    "\n",
    "{\n",
    "  \"@type\": \"odrl:Set\",\n",
    "  \"odrl:permission\": [\n",
    "    {\n",
    "      \"odrl:action\": \"USE\",\n",
    "      \"odrl:constraint\": [\n",
    "        {\n",
    "          \"odrl:and\": [\n",
    "            {\n",
    "              \"odrl:leftOperand\": \"https://w3id.org/edc/v0.0.1/ns/inForceDate\",\n",
    "              \"odrl:operator\": {\n",
    "                \"@id\": \"odrl:gteq\"\n",
    "              },\n",
    "              \"odrl:rightOperand\": {\n",
    "                \"@value\": time_from,\n",
    "                \"@type\": \"xsd:datetime\"\n",
    "              }\n",
    "            },\n",
    "            {\n",
    "              \"odrl:leftOperand\": \"https://w3id.org/edc/v0.0.1/ns/inForceDate\",\n",
    "              \"odrl:operator\": {\n",
    "                \"@id\": \"odrl:lteq\"\n",
    "              },\n",
    "              \"odrl:rightOperand\": {\n",
    "                \"@value\": time_to,\n",
    "                \"@type\": \"xsd:datetime\"\n",
    "              }\n",
    "            }\n",
    "          ]\n",
    "        }\n",
    "      ]\n",
    "    }\n",
    "  ]\n",
    "}"
   ]
  },
  {
   "cell_type": "markdown",
   "metadata": {},
   "source": [
    "## Time Duration Policy\n",
    "\n",
    "A policy the requires the current time for the transfer to be within up to a certain time of the generation of an Agreement."
   ]
  },
  {
   "cell_type": "code",
   "execution_count": null,
   "metadata": {},
   "outputs": [],
   "source": [
    "duration = \"1d\"\n",
    "\n",
    "{\n",
    "  \"@type\": \"odrl:Set\",\n",
    "  \"odrl:permission\": [\n",
    "    {\n",
    "      \"odrl:action\": \"USE\",\n",
    "      \"odrl:constraint\": [\n",
    "        {\n",
    "          \"odrl:and\": [\n",
    "            {\n",
    "              \"odrl:leftOperand\": \"https://w3id.org/edc/v0.0.1/ns/inForceDate\",\n",
    "              \"odrl:operator\": {\n",
    "                \"@id\": \"odrl:gteq\"\n",
    "              },\n",
    "              \"odrl:rightOperand\": {\n",
    "                \"@value\": \"contractAgreement+0s\",\n",
    "                \"@type\": \"dateExpression\"\n",
    "              }\n",
    "            },\n",
    "            {\n",
    "              \"odrl:leftOperand\": \"https://w3id.org/edc/v0.0.1/ns/inForceDate\",\n",
    "              \"odrl:operator\": {\n",
    "                \"@id\": \"odrl:lteq\"\n",
    "              },\n",
    "              \"odrl:rightOperand\": {\n",
    "                \"@value\": f\"contractAgreement+{duration}\",\n",
    "                \"@type\": \"dateExpression\"\n",
    "              }\n",
    "            }\n",
    "          ]\n",
    "        }\n",
    "      ]\n",
    "    }\n",
    "  ]\n",
    "}"
   ]
  },
  {
   "cell_type": "markdown",
   "metadata": {},
   "source": [
    "## BPN Group Policy\n",
    "\n",
    "A policy that requires to be part of a specific BPN group."
   ]
  },
  {
   "cell_type": "code",
   "execution_count": null,
   "metadata": {},
   "outputs": [],
   "source": [
    "group = \"...\"\n",
    "\n",
    "{\n",
    "  \"@type\": \"odrl:Set\",\n",
    "  \"odrl:permission\": [\n",
    "    {\n",
    "      \"odrl:action\": \"USE\",\n",
    "      \"odrl:constraint\": [\n",
    "        {\n",
    "          \"odrl:leftOperand\": \"https://w3id.org/tractusx/v0.0.1/ns/BusinessPartnerGroup\",\n",
    "          \"odrl:operator\": {\n",
    "            \"@id\": \"odrl:isPartOf\"\n",
    "          },\n",
    "          \"odrl:rightOperand\": group\n",
    "        }\n",
    "      ]\n",
    "    }\n",
    "  ]\n",
    "}"
   ]
  },
  {
   "cell_type": "markdown",
   "metadata": {},
   "source": [
    "A BPN can be added to a BPN group by sending a POST request with the following payload to /management/business-partner-groups. The group does not need to be created separately first."
   ]
  },
  {
   "cell_type": "code",
   "execution_count": null,
   "metadata": {},
   "outputs": [],
   "source": [
    "group = \"...\"\n",
    "bpn = \"...\"\n",
    "\n",
    "{\n",
    "  \"@context\": {\n",
    "    \"tx\": \"https://w3id.org/tractusx/v0.0.1/ns/\"\n",
    "  },\n",
    "  \"@id\": bpn,\n",
    "  \"tx:groups\": [\n",
    "    group\n",
    "  ]\n",
    "}"
   ]
  },
  {
   "cell_type": "markdown",
   "metadata": {},
   "source": [
    "## Credential Policy\n",
    "\n",
    "A policy that requires to hold a specific Credential."
   ]
  },
  {
   "cell_type": "code",
   "execution_count": null,
   "metadata": {},
   "outputs": [],
   "source": [
    "credential = \"...\"\n",
    "\n",
    "{\n",
    "  \"@type\": \"odrl:Set\",\n",
    "  \"odrl:permission\": [\n",
    "    {\n",
    "      \"odrl:action\": \"USE\",\n",
    "      \"odrl:constraint\": {\n",
    "        \"odrl:or\": [\n",
    "          {\n",
    "            \"odrl:leftOperand\": credential,\n",
    "            \"odrl:operator\": {\n",
    "              \"@id\": \"odrl:eq\"\n",
    "            },\n",
    "            \"odrl:rightOperand\": \"active\"\n",
    "          }\n",
    "        ]\n",
    "      }\n",
    "    }\n",
    "  ]\n",
    "}"
   ]
  }
 ],
 "metadata": {
  "kernelspec": {
   "display_name": "base",
   "language": "python",
   "name": "python3"
  },
  "language_info": {
   "codemirror_mode": {
    "name": "ipython",
    "version": 3
   },
   "file_extension": ".py",
   "mimetype": "text/x-python",
   "name": "python",
   "nbconvert_exporter": "python",
   "pygments_lexer": "ipython3",
   "version": "3.12.3"
  }
 },
 "nbformat": 4,
 "nbformat_minor": 2
}
