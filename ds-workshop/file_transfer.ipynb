{
 "cells": [
  {
   "cell_type": "markdown",
   "metadata": {},
   "source": [
    "# File Transfer\n",
    "\n",
    "With this notebook you can create an offer in the Dataspace (Provider) as well as negotiate and transfer an existing offer (Consumer) using the Management API of the Connector.\n",
    "\n",
    "Documentation for all endpoints of the Connectors Management API can be found on [SwaggerHub](https://app.swaggerhub.com/apis/eclipse-tractusx-bot/tractusx-edc/0.6.0#/)."
   ]
  },
  {
   "cell_type": "markdown",
   "metadata": {},
   "source": [
    "## Preperation\n",
    "\n",
    "Here some values are initialized that will be necessary for the other steps."
   ]
  },
  {
   "cell_type": "markdown",
   "metadata": {},
   "source": [
    "\n",
    "### Set up\n",
    "\n",
    "Import the requests module and assing the base url of the Dataspace as a variable."
   ]
  },
  {
   "cell_type": "code",
   "execution_count": 1,
   "metadata": {},
   "outputs": [],
   "source": [
    "from pprint import pprint\n",
    "import re\n",
    "import requests\n",
    "\n",
    "base_url = \"https://test-deploy-dataspace.base-x-ecosystem.org\""
   ]
  },
  {
   "cell_type": "markdown",
   "metadata": {},
   "source": [
    "### Fill in Values\n",
    "\n",
    "Fill in the values for the variables below."
   ]
  },
  {
   "cell_type": "code",
   "execution_count": 20,
   "metadata": {},
   "outputs": [],
   "source": [
    "username = \"\"\n",
    "password = \"...\"\n",
    "connector_name = \"...\"\n",
    "aws_url = \"http://minio-....83a9eabf.nip.io\"\n",
    "aws_username = \"...awsclient\"\n",
    "aws_password = \"...awssecret\"\n",
    "aws_bucket = \"...-bucket\""
   ]
  },
  {
   "cell_type": "markdown",
   "metadata": {},
   "source": [
    "### Get token\n",
    "\n",
    "Gets the token for accessing your Connector. This token needs to be passed in the header of each request to your Connector."
   ]
  },
  {
   "cell_type": "code",
   "execution_count": null,
   "metadata": {},
   "outputs": [],
   "source": [
    "url = f\"{base_url}/backend/token\"\n",
    "payload = {\n",
    "  \"username\": username,\n",
    "  \"password\": password\n",
    "}\n",
    "response = requests.post(url, json=payload)\n",
    "token = response.json()[\"access_token\"]\n",
    "\n",
    "response.raise_for_status()\n",
    "print(\"Got token:\\n\")\n",
    "print(re.sub(f\"(.{{{100}}})\", r\"\\1\" + \"\\n\", token).rstrip(\"\\n\"))\n",
    "\n",
    "token_header = {\"Authorization\": f\"Bearer {token}\"}"
   ]
  },
  {
   "cell_type": "markdown",
   "metadata": {},
   "source": [
    "## Provider\n",
    "\n",
    "Here you as a provider offer a file from your storage in the Dataspace."
   ]
  },
  {
   "cell_type": "markdown",
   "metadata": {},
   "source": [
    "### Create Asset\n",
    "\n",
    "Here you create an Asset for the file you want to offer. The Asset on one hand describes what kind of data is offered (properties) and on the other hand how the Connector can eventually retrieve the data to transfer it (dataAddress). However, this will be not be available for others as an Offer just yet."
   ]
  },
  {
   "cell_type": "markdown",
   "metadata": {},
   "source": [
    "Choose a unique id for your Asset and specify the file from your storage you want to offer."
   ]
  },
  {
   "cell_type": "code",
   "execution_count": 4,
   "metadata": {},
   "outputs": [],
   "source": [
    "asset_id = \"...\"\n",
    "filename = \"...\""
   ]
  },
  {
   "cell_type": "markdown",
   "metadata": {},
   "source": [
    "Creates an Asset with the given values."
   ]
  },
  {
   "cell_type": "code",
   "execution_count": null,
   "metadata": {},
   "outputs": [],
   "source": [
    "url = f\"{base_url}/backend/connectors/{connector_name}/management/v3/assets\"\n",
    "payload = {\n",
    "  \"@context\": {},\n",
    "  \"@id\": asset_id,\n",
    "  \"properties\": {\n",
    "    \"name\": f\"File {filename}\",\n",
    "    \"description\": \"File Transfer test\"\n",
    "  },\n",
    "  \"dataAddress\": {\n",
    "    \"@type\": \"DataAddress\",\n",
    "    \"type\": \"AmazonS3\",\n",
    "    \"objectName\": filename,\n",
    "    \"region\": \"us-east-1\",\n",
    "    \"bucketName\": aws_bucket,\n",
    "    \"endpointOverride\": aws_url,\n",
    "    \"accessKeyId\": aws_username,\n",
    "    \"secretAccessKey\": aws_password\n",
    "  }\n",
    "}\n",
    "\n",
    "response = requests.post(url, json=payload, headers=token_header)\n",
    "response.raise_for_status()\n",
    "print(f\"Created Asset with ID: {asset_id}\")"
   ]
  },
  {
   "cell_type": "markdown",
   "metadata": {},
   "source": [
    "### Create Policy\n",
    "\n",
    "Here you create a Policy which is basically a collection of terms and conditions. This will later be \"assigned\" to the Asset in order to make it available for others given they meet the conditions."
   ]
  },
  {
   "cell_type": "markdown",
   "metadata": {},
   "source": [
    "Choose a unique id for your Policy."
   ]
  },
  {
   "cell_type": "code",
   "execution_count": 14,
   "metadata": {},
   "outputs": [],
   "source": [
    "policy_id = \"...\"\n",
    "\n",
    "policy = {\n",
    "  \"@type\": \"odrl:Set\",\n",
    "  \"odrl:permission\": [\n",
    "    {\n",
    "      \"odrl:action\": \"USE\"\n",
    "    }\n",
    "  ]\n",
    "}"
   ]
  },
  {
   "cell_type": "markdown",
   "metadata": {},
   "source": [
    "Creates a Policy with the given values."
   ]
  },
  {
   "cell_type": "code",
   "execution_count": null,
   "metadata": {},
   "outputs": [],
   "source": [
    "url = f\"{base_url}/backend/connectors/{connector_name}/management/v2/policydefinitions\"\n",
    "payload = {\n",
    "  \"@context\": {\n",
    "    \"odrl\": \"http://www.w3.org/ns/odrl/2/\"\n",
    "  },\n",
    "  \"@id\": policy_id,\n",
    "  \"policy\": policy\n",
    "}\n",
    "\n",
    "response = requests.post(url, json=payload, headers=token_header)\n",
    "response.raise_for_status()\n",
    "print(f\"Created Policy with ID: {policy_id}\")"
   ]
  },
  {
   "cell_type": "markdown",
   "metadata": {},
   "source": [
    "### Create Contract Definition"
   ]
  },
  {
   "cell_type": "markdown",
   "metadata": {},
   "source": [
    "Here you create a Contract whose role it is to assign Policies to Assets. The contract's \"Access Policy\" sets the terms and conditions under which the Asset will be visible as an Offer in the Catalog and the \"Contract Policy\" sets the terms and conditions under which the Negotiation for an Offer will be agreed. The \"Assets Selector\" determines to which Assets the Policies are \"assigned\" to."
   ]
  },
  {
   "cell_type": "markdown",
   "metadata": {},
   "source": [
    "Choose a unique id for your Policy."
   ]
  },
  {
   "cell_type": "code",
   "execution_count": 16,
   "metadata": {},
   "outputs": [],
   "source": [
    "contract_id = \"...\""
   ]
  },
  {
   "cell_type": "markdown",
   "metadata": {},
   "source": [
    "Creates a Contract with the given values."
   ]
  },
  {
   "cell_type": "code",
   "execution_count": null,
   "metadata": {},
   "outputs": [],
   "source": [
    "url = f\"{base_url}/backend/connectors/{connector_name}/management/v2/contractdefinitions\"\n",
    "payload = {\n",
    "  \"@context\": {\n",
    "    \"odrl\": \"http://www.w3.org/ns/odrl/2/\"\n",
    "  },\n",
    "  \"@id\": contract_id,\n",
    "  \"accessPolicyId\": policy_id,\n",
    "  \"contractPolicyId\": policy_id,\n",
    "  \"assetsSelector\": {\n",
    "    \"operandLeft\": \"https://w3id.org/edc/v0.0.1/ns/id\",\n",
    "    \"operator\": \"=\",\n",
    "    \"operandRight\": asset_id\n",
    "  }\n",
    "}\n",
    "\n",
    "response = requests.post(url, json=payload, headers=token_header)\n",
    "response.raise_for_status()\n",
    "print(f\"Created Contract Definition with ID: {contract_id}\")"
   ]
  },
  {
   "cell_type": "markdown",
   "metadata": {},
   "source": [
    "If everything was successful the Asset will be now available to others as an Offer in your Catalog."
   ]
  },
  {
   "cell_type": "markdown",
   "metadata": {},
   "source": [
    "## Consumer\n",
    "\n",
    "Here you as a consumer negotiate for an Offer in the Federated Catalog (the collection of all participant's catalogs) and then transfer the associated data to your storage."
   ]
  },
  {
   "cell_type": "markdown",
   "metadata": {},
   "source": [
    "### Get Federated Catalog\n",
    "\n",
    "Here you get the contents of the Federated Catalog and then choose an Offer you want to negotiate for."
   ]
  },
  {
   "cell_type": "markdown",
   "metadata": {},
   "source": [
    "Gets and prints out the relevant conents of the Federated Catalog."
   ]
  },
  {
   "cell_type": "code",
   "execution_count": null,
   "metadata": {},
   "outputs": [],
   "source": [
    "url = f\"{base_url}/backend/connectors/{connector_name}/catalog/query\"\n",
    "payload = {\n",
    "  \"@context\": {},\n",
    "  \"@type\": \"QuerySpec\"\n",
    "}\n",
    "\n",
    "response = requests.post(url, json=payload, headers=token_header)\n",
    "response.raise_for_status()\n",
    "print(\"Got the federated catalog\")\n",
    "\n",
    "federated_catalog = response.json()\n",
    "for catalog in federated_catalog:\n",
    "  print(f\"Catalog from {catalog['originator']}\")\n",
    "  datasets = catalog[\"dcat:dataset\"]\n",
    "  if not isinstance(datasets, list):\n",
    "    datasets = [datasets]\n",
    "  for dataset in datasets:\n",
    "    if \"name\" not in dataset:\n",
    "      continue\n",
    "    print(f\"    Offer for {dataset['name']}\")"
   ]
  },
  {
   "cell_type": "markdown",
   "metadata": {},
   "source": [
    "Pick out an Offer from the printed ones and fill in the below values for the variables accordingly."
   ]
  },
  {
   "cell_type": "code",
   "execution_count": 23,
   "metadata": {},
   "outputs": [],
   "source": [
    "catalog_from = \"...\"\n",
    "offer_for = \"...\""
   ]
  },
  {
   "cell_type": "markdown",
   "metadata": {},
   "source": [
    "Gets the necessary data about the chosen Offer from the Federated Catalog in order to start a Negotiation and an eventual Transfer in the next steps."
   ]
  },
  {
   "cell_type": "code",
   "execution_count": null,
   "metadata": {},
   "outputs": [],
   "source": [
    "for catalog in federated_catalog:\n",
    "  if catalog[\"originator\"] != catalog_from:\n",
    "    continue\n",
    "  datasets = catalog[\"dcat:dataset\"]\n",
    "  if not isinstance(datasets, list):\n",
    "    datasets = [datasets]\n",
    "  for dataset in datasets:\n",
    "    if not \"name\" in dataset or dataset[\"name\"] != offer_for:\n",
    "      continue\n",
    "    provider_id = catalog[\"dspace:participantId\"]\n",
    "    originator = catalog[\"originator\"]\n",
    "    policy = dataset[\"odrl:hasPolicy\"]\n",
    "    offered_asset_id = dataset[\"id\"]\n",
    "\n",
    "print(\"Got necessary values\\n\")\n",
    "\n",
    "print(f\"ProviderId:  {provider_id}\")\n",
    "print(f\"Originator: {originator}\")\n",
    "print(f\"Policy with ID: {policy['@id']}\")\n",
    "print(f\"AssetId: {offered_asset_id}\")"
   ]
  },
  {
   "cell_type": "markdown",
   "metadata": {},
   "source": [
    "### Initiate Negotiation"
   ]
  },
  {
   "cell_type": "markdown",
   "metadata": {},
   "source": [
    "Here you start a Negotiation for the Offer chosen in the previous step. If the given conditions are satisfied the Negotiation will succeed and an Agreement will be created."
   ]
  },
  {
   "cell_type": "markdown",
   "metadata": {},
   "source": [
    "Starts the Negotiation using the values got from the previous step."
   ]
  },
  {
   "cell_type": "code",
   "execution_count": null,
   "metadata": {},
   "outputs": [],
   "source": [
    "url = f\"{base_url}/backend/connectors/{connector_name}/management/v2/contractnegotiations\"\n",
    "payload = {\n",
    "  \"@context\": {\n",
    "    \"odrl\": \"http://www.w3.org/ns/odrl/2/\"\n",
    "  },\n",
    "  \"counterPartyAddress\": originator,\n",
    "  \"protocol\": \"dataspace-protocol-http\",\n",
    "  \"policy\": policy | {\"odrl:assigner\": {\"@id\": provider_id}, \"odrl:target\": {\"@id\": offered_asset_id}}\n",
    "}\n",
    "\n",
    "response = requests.post(url, json=payload, headers=token_header)\n",
    "print(response.content)\n",
    "response.raise_for_status()\n",
    "\n",
    "negotiation_id = response.json()[\"@id\"]\n",
    "print(f\"Started Negotiation with ID: {negotiation_id}\")"
   ]
  },
  {
   "cell_type": "markdown",
   "metadata": {},
   "source": [
    "Confirms that the Negotiation succeeded and get the ID corresponding Agreement which will be needed for the eventual Transfer."
   ]
  },
  {
   "cell_type": "code",
   "execution_count": null,
   "metadata": {},
   "outputs": [],
   "source": [
    "url = f\"{base_url}/backend/connectors/{connector_name}/management/v2/contractnegotiations/{negotiation_id}\"\n",
    "\n",
    "response = requests.get(url, headers=token_header)\n",
    "response.raise_for_status()\n",
    "print(f\"Negotiation data:\\n\")\n",
    "pprint(response.json())\n",
    "\n",
    "agreement_id = response.json()[\"contractAgreementId\"]"
   ]
  },
  {
   "cell_type": "markdown",
   "metadata": {},
   "source": [
    "## Initiate Transfer\n",
    "\n",
    "Here you will request for the transfer of the data to your storage."
   ]
  },
  {
   "cell_type": "markdown",
   "metadata": {},
   "source": [
    "Initiates the Transfer."
   ]
  },
  {
   "cell_type": "code",
   "execution_count": null,
   "metadata": {},
   "outputs": [],
   "source": [
    "url = f\"{base_url}/backend/connectors/{connector_name}/management/v2/transferprocesses\"\n",
    "payload = {\n",
    "  \"@context\": {\n",
    "    \"odrl\": \"http://www.w3.org/ns/odrl/2/\"\n",
    "  },\n",
    "  \"assetId\": offered_asset_id,\n",
    "  \"counterPartyAddress\": originator,\n",
    "  \"contractId\": agreement_id,\n",
    "  \"transferType\": \"AmazonS3-PUSH\",\n",
    "  \"dataDestination\": {\n",
    "    \"type\": \"AmazonS3\",\n",
    "    \"region\": \"us-east-1\",\n",
    "    \"endpointOverride\": aws_url,\n",
    "    \"accessKeyId\": aws_username,\n",
    "    \"secretAccessKey\": aws_password,\n",
    "    \"bucketName\": aws_bucket,\n",
    "    \"keyName\": \"dummy\"\n",
    "  },\n",
    "  \"protocol\": \"dataspace-protocol-http\"\n",
    "}\n",
    "\n",
    "response = requests.post(url, json=payload, headers=token_header)\n",
    "print(response.content)\n",
    "response.raise_for_status()\n",
    "\n",
    "transfer_id = response.json()[\"@id\"]\n",
    "print(f\"Started Transfer with ID: {transfer_id}\")"
   ]
  },
  {
   "cell_type": "markdown",
   "metadata": {},
   "source": [
    "Confirms that the Transfer succeeded."
   ]
  },
  {
   "cell_type": "code",
   "execution_count": null,
   "metadata": {},
   "outputs": [],
   "source": [
    "url = f\"{base_url}/backend/connectors/{connector_name}/management/v2/transferprocesses/{transfer_id}\"\n",
    "\n",
    "response = requests.get(url, headers=token_header)\n",
    "response.raise_for_status()\n",
    "print(f\"Transfer data:\\n\")\n",
    "pprint(response.json())"
   ]
  },
  {
   "cell_type": "markdown",
   "metadata": {},
   "source": [
    "If everything was successful the file should now be in your storage."
   ]
  }
 ],
 "metadata": {
  "kernelspec": {
   "display_name": "base",
   "language": "python",
   "name": "python3"
  },
  "language_info": {
   "codemirror_mode": {
    "name": "ipython",
    "version": 3
   },
   "file_extension": ".py",
   "mimetype": "text/x-python",
   "name": "python",
   "nbconvert_exporter": "python",
   "pygments_lexer": "ipython3",
   "version": "3.12.3"
  }
 },
 "nbformat": 4,
 "nbformat_minor": 2
}
