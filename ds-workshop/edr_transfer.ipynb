{
 "cells": [
  {
   "cell_type": "markdown",
   "metadata": {},
   "source": [
    "# EDR Transfer\n",
    "\n",
    "With this notebook you can create an offer for use of an API (Provider) as well as negotiate and receive a access token for such an existing offer (Consumer) using the Management API of the Connector.\n",
    "\n",
    "Documentation for all endpoints of the Connectors Management API can be found on [SwaggerHub](https://app.swaggerhub.com/apis/eclipse-tractusx-bot/tractusx-edc/0.6.0#/)."
   ]
  },
  {
   "cell_type": "markdown",
   "metadata": {},
   "source": [
    "## Preperation\n",
    "\n",
    "Here some values are initialized that will be necessary for the other steps."
   ]
  },
  {
   "cell_type": "markdown",
   "metadata": {},
   "source": [
    "\n",
    "### Set up\n",
    "\n",
    "Import the requests module and assing the base url of the Dataspace as a variable."
   ]
  },
  {
   "cell_type": "code",
   "execution_count": 2,
   "metadata": {},
   "outputs": [],
   "source": [
    "from pprint import pprint\n",
    "import re\n",
    "import requests\n",
    "\n",
    "base_url = \"https://dataspace-dev-dataspace.base-x-ecosystem.org\""
   ]
  },
  {
   "cell_type": "markdown",
   "metadata": {},
   "source": [
    "### Fill in Values\n",
    "\n",
    "Fill in the values for the variables below."
   ]
  },
  {
   "cell_type": "code",
   "execution_count": 3,
   "metadata": {},
   "outputs": [],
   "source": [
    "username = \"...\"\n",
    "password = \"...\"\n",
    "connector_name = \"...\""
   ]
  },
  {
   "cell_type": "markdown",
   "metadata": {},
   "source": [
    "### Get token\n",
    "\n",
    "Gets the token for accessing your Connector. This token needs to be passed in the header of each request to your Connector."
   ]
  },
  {
   "cell_type": "code",
   "execution_count": null,
   "metadata": {},
   "outputs": [],
   "source": [
    "url = f\"{base_url}/backend/token\"\n",
    "payload = {\n",
    "  \"username\": username,\n",
    "  \"password\": password\n",
    "}\n",
    "response = requests.post(url, json=payload)\n",
    "token = response.json()[\"access_token\"]\n",
    "\n",
    "response.raise_for_status()\n",
    "print(\"Got token:\\n\")\n",
    "print(re.sub(f\"(.{{{100}}})\", r\"\\1\" + \"\\n\", token).rstrip(\"\\n\"))\n",
    "\n",
    "token_header = {\"Authorization\": f\"Bearer {token}\"}"
   ]
  },
  {
   "cell_type": "markdown",
   "metadata": {},
   "source": [
    "## Provider\n",
    "\n",
    "Here you as a provider offer access of an API in the Dataspace."
   ]
  },
  {
   "cell_type": "markdown",
   "metadata": {},
   "source": [
    "### Create Asset\n",
    "\n",
    "Here you create an Asset for access of the API you want to offer. The Asset on one hand describes what kind of data is offered (properties) and on the other hand how the Connector can eventually make requests to (dataAddress). However, this will be not be available for others as an Offer just yet."
   ]
  },
  {
   "cell_type": "markdown",
   "metadata": {},
   "source": [
    "Choose a unique id for your Asset and specify the file from your storage you want to offer."
   ]
  },
  {
   "cell_type": "code",
   "execution_count": 8,
   "metadata": {},
   "outputs": [],
   "source": [
    "asset_id = \"...\"\n",
    "api_url = \"https://echo.free.beeceptor.com\""
   ]
  },
  {
   "cell_type": "markdown",
   "metadata": {},
   "source": [
    "Creates an Asset with the given values."
   ]
  },
  {
   "cell_type": "code",
   "execution_count": null,
   "metadata": {},
   "outputs": [],
   "source": [
    "url = f\"{base_url}/backend/connectors/{connector_name}/management/v3/assets\"\n",
    "payload = {\n",
    "  \"@context\": {},\n",
    "  \"@id\": asset_id,\n",
    "  \"properties\": {\n",
    "    \"name\": f\"API at {api_url}\",\n",
    "    \"description\": \"EDR test\"\n",
    "  },\n",
    "  \"dataAddress\": {\n",
    "    \"@type\": \"DataAddress\",\n",
    "    \"type\": \"HttpData\",\n",
    "    \"baseUrl\": api_url,\n",
    "    \"proxyMethod\": \"true\",\n",
    "    \"proxyBody\": \"true\"\n",
    "  }\n",
    "}\n",
    "\n",
    "response = requests.post(url, json=payload, headers=token_header)\n",
    "response.raise_for_status()\n",
    "print(f\"Created Asset with ID: {asset_id}\")"
   ]
  },
  {
   "cell_type": "markdown",
   "metadata": {},
   "source": [
    "### Create Policy\n",
    "\n",
    "Here you create a Policy which is basically a collection of terms and conditions. This will later be \"assigned\" to the Asset in order to make it available for others given they meet the conditions."
   ]
  },
  {
   "cell_type": "markdown",
   "metadata": {},
   "source": [
    "Choose a unique id for your Policy."
   ]
  },
  {
   "cell_type": "code",
   "execution_count": 10,
   "metadata": {},
   "outputs": [],
   "source": [
    "policy_id = \"...\"\n",
    "\n",
    "policy = {\n",
    "  \"@type\": \"odrl:Set\",\n",
    "  \"odrl:permission\": [\n",
    "    {\n",
    "      \"odrl:action\": \"USE\"\n",
    "    }\n",
    "  ]\n",
    "}"
   ]
  },
  {
   "cell_type": "markdown",
   "metadata": {},
   "source": [
    "Creates a Policy with the given values."
   ]
  },
  {
   "cell_type": "code",
   "execution_count": null,
   "metadata": {},
   "outputs": [],
   "source": [
    "url = f\"{base_url}/backend/connectors/{connector_name}/management/v3/policydefinitions\"\n",
    "payload = {\n",
    "  \"@context\": {\n",
    "    \"odrl\": \"http://www.w3.org/ns/odrl/2/\"\n",
    "  },\n",
    "  \"@id\": policy_id,\n",
    "  \"policy\": policy\n",
    "}\n",
    "\n",
    "response = requests.post(url, json=payload, headers=token_header)\n",
    "response.raise_for_status()\n",
    "print(f\"Created Policy with ID: {policy_id}\")"
   ]
  },
  {
   "cell_type": "markdown",
   "metadata": {},
   "source": [
    "### Create Contract Definition"
   ]
  },
  {
   "cell_type": "markdown",
   "metadata": {},
   "source": [
    "Here you create a Contract whose role it is to assign Policies to Assets. The contract's \"Access Policy\" sets the terms and conditions under which the Asset will be visible as an Offer in the Catalog and the \"Contract Policy\" sets the terms and conditions under which the Negotiation for an Offer will be agreed. The \"Assets Selector\" determines to which Assets the Policies are \"assigned\" to."
   ]
  },
  {
   "cell_type": "markdown",
   "metadata": {},
   "source": [
    "Choose a unique id for your Policy."
   ]
  },
  {
   "cell_type": "code",
   "execution_count": 12,
   "metadata": {},
   "outputs": [],
   "source": [
    "contract_id = \"...\""
   ]
  },
  {
   "cell_type": "markdown",
   "metadata": {},
   "source": [
    "Creates a Contract with the given values."
   ]
  },
  {
   "cell_type": "code",
   "execution_count": null,
   "metadata": {},
   "outputs": [],
   "source": [
    "url = f\"{base_url}/backend/connectors/{connector_name}/management/v2/contractdefinitions\"\n",
    "payload = {\n",
    "  \"@context\": {\n",
    "    \"odrl\": \"http://www.w3.org/ns/odrl/2/\"\n",
    "  },\n",
    "  \"@id\": contract_id,\n",
    "  \"accessPolicyId\": policy_id,\n",
    "  \"contractPolicyId\": policy_id,\n",
    "  \"assetsSelector\": {\n",
    "    \"operandLeft\": \"https://w3id.org/edc/v0.0.1/ns/id\",\n",
    "    \"operator\": \"=\",\n",
    "    \"operandRight\": asset_id\n",
    "  }\n",
    "}\n",
    "\n",
    "response = requests.post(url, json=payload, headers=token_header)\n",
    "response.raise_for_status()\n",
    "print(f\"Created Contract Definition with ID: {contract_id}\")"
   ]
  },
  {
   "cell_type": "markdown",
   "metadata": {},
   "source": [
    "If everything was successful the Asset will be now available to others as an Offer in your Catalog."
   ]
  },
  {
   "cell_type": "markdown",
   "metadata": {},
   "source": [
    "## Consumer\n",
    "\n",
    "Here you as a consumer negotiate for an Offer in the Federated Catalog (the collection of all participant's catalogs) and then send requests to the associated API."
   ]
  },
  {
   "cell_type": "markdown",
   "metadata": {},
   "source": [
    "### Get Federated Catalog\n",
    "\n",
    "Here you get the contents of the Federated Catalog and then choose an Offer you want to negotiate for."
   ]
  },
  {
   "cell_type": "markdown",
   "metadata": {},
   "source": [
    "Gets and prints out the relevant conents of the Federated Catalog."
   ]
  },
  {
   "cell_type": "code",
   "execution_count": null,
   "metadata": {},
   "outputs": [],
   "source": [
    "url = f\"{base_url}/backend/federated/catalog/query\"\n",
    "payload = {\n",
    "  \"@context\": {},\n",
    "  \"@type\": \"QuerySpec\"\n",
    "}\n",
    "\n",
    "response = requests.post(url, json=payload, headers=token_header)\n",
    "response.raise_for_status()\n",
    "print(\"Got the federated catalog\")\n",
    "\n",
    "federated_catalog = response.json()\n",
    "for catalog in federated_catalog:\n",
    "  print(f\"Catalog from {catalog['originator']}\")\n",
    "  datasets = catalog[\"dcat:dataset\"]\n",
    "  if not isinstance(datasets, list):\n",
    "    datasets = [datasets]\n",
    "  for dataset in datasets:\n",
    "    if \"name\" not in dataset:\n",
    "      continue\n",
    "    print(f\"    Offer for {dataset['name']}\")"
   ]
  },
  {
   "cell_type": "markdown",
   "metadata": {},
   "source": [
    "Pick out an Offer from the printed ones and fill in the below values for the variables accordingly."
   ]
  },
  {
   "cell_type": "code",
   "execution_count": 25,
   "metadata": {},
   "outputs": [],
   "source": [
    "catalog_from = \"...\"\n",
    "offer_for = \"...\""
   ]
  },
  {
   "cell_type": "markdown",
   "metadata": {},
   "source": [
    "Gets the necessary data about the chosen Offer from the Federated Catalog in order to start a Negotiation and an eventual Transfer in the next steps."
   ]
  },
  {
   "cell_type": "code",
   "execution_count": null,
   "metadata": {},
   "outputs": [],
   "source": [
    "for catalog in federated_catalog:\n",
    "  if catalog[\"originator\"] != catalog_from:\n",
    "    continue\n",
    "  datasets = catalog[\"dcat:dataset\"]\n",
    "  if not isinstance(datasets, list):\n",
    "    datasets = [datasets]\n",
    "  for dataset in datasets:\n",
    "    if not \"name\" in dataset or dataset[\"name\"] != offer_for:\n",
    "      continue\n",
    "    provider_id = catalog[\"dspace:participantId\"]\n",
    "    originator = catalog[\"originator\"]\n",
    "    policy = dataset[\"odrl:hasPolicy\"]\n",
    "    offered_asset_id = dataset[\"id\"]\n",
    "\n",
    "print(\"Got necessary values\\n\")\n",
    "\n",
    "print(f\"ProviderId:  {provider_id}\")\n",
    "print(f\"Originator: {originator}\")\n",
    "print(f\"Policy with ID: {policy['@id']}\")\n",
    "print(f\"AssetId: {offered_asset_id}\")"
   ]
  },
  {
   "cell_type": "markdown",
   "metadata": {},
   "source": [
    "### Initiate EDR Negotiation"
   ]
  },
  {
   "cell_type": "markdown",
   "metadata": {},
   "source": [
    "Here you start an EDR Negotiation for the Offer chosen in the previous step. This performs the usual Negotiation and Tranfer in such a way that you can later retrieve access tokens. If the given conditions are satisfied the EDR Negotiation will succeed and an Agreement will be created."
   ]
  },
  {
   "cell_type": "markdown",
   "metadata": {},
   "source": [
    "Starts the EDR Negotiation using the values got from the previous step."
   ]
  },
  {
   "cell_type": "code",
   "execution_count": null,
   "metadata": {},
   "outputs": [],
   "source": [
    "url = f\"{base_url}/backend/connectors/{connector_name}/management/v3/edrs\"\n",
    "payload = {\n",
    "\t\"@context\": {\n",
    "\t\t\"odrl\": \"http://www.w3.org/ns/odrl/2/\"\n",
    "\t},\n",
    "\t\"counterPartyAddress\": originator,\n",
    "\t\"protocol\": \"dataspace-protocol-http\",\n",
    "\t\"policy\": policy | {\"odrl:assigner\": {\"@id\": provider_id}, \"odrl:target\": {\"@id\": offered_asset_id}}\n",
    "}\n",
    "\n",
    "response = requests.post(url, json=payload, headers=token_header)\n",
    "response.raise_for_status()\n",
    "\n",
    "negotiation_id = response.json()[\"@id\"]\n",
    "print(f\"Started EDR Negotiation with ID: {negotiation_id}\")"
   ]
  },
  {
   "cell_type": "markdown",
   "metadata": {},
   "source": [
    "As mentioned the EDR starts a Negotiation and a Transfer. Information about the Negotiation can be easily accessed by the below request since we know its ID from the previous step. However, for the transfer we do not know the ID so it is not as easy to get information on it at this point."
   ]
  },
  {
   "cell_type": "code",
   "execution_count": null,
   "metadata": {},
   "outputs": [],
   "source": [
    "url = f\"{base_url}/backend/connectors/{connector_name}/management/v2/contractnegotiations/{negotiation_id}\"\n",
    "\n",
    "response = requests.get(url, headers=token_header)\n",
    "response.raise_for_status()\n",
    "print(f\"Negotiation data:\\n\")\n",
    "pprint(response.json())"
   ]
  },
  {
   "cell_type": "markdown",
   "metadata": {},
   "source": [
    "## Get EDR\n",
    "\n",
    "Here you will get the access token."
   ]
  },
  {
   "cell_type": "markdown",
   "metadata": {},
   "source": [
    "Gets all EDRs for the chosen asset."
   ]
  },
  {
   "cell_type": "code",
   "execution_count": null,
   "metadata": {},
   "outputs": [],
   "source": [
    "url = f\"{base_url}/backend/connectors/{connector_name}/management/v3/edrs/request\"\n",
    "payload = {\n",
    "  \"@context\": {},\n",
    "  \"@type\": \"QuerySpec\",\n",
    "  \"filterExpression\": [\n",
    "        {\n",
    "            \"operandLeft\": \"assetId\",\n",
    "            \"operator\": \"=\",\n",
    "            \"operandRight\": offered_asset_id\n",
    "        }\n",
    "        \n",
    "    ]\n",
    "}\n",
    "\n",
    "response = requests.post(url, json=payload, headers=token_header)\n",
    "response.raise_for_status()\n",
    "\n",
    "print(f\"EDRs data:\\n\")\n",
    "pprint(response.json())\n",
    "\n",
    "transfer_id = response.json()[0][\"transferProcessId\"]"
   ]
  },
  {
   "cell_type": "markdown",
   "metadata": {},
   "source": [
    "Uses the Transfer Id from the previous step to get the acccess token."
   ]
  },
  {
   "cell_type": "code",
   "execution_count": null,
   "metadata": {},
   "outputs": [],
   "source": [
    "url = f\"{base_url}/backend/connectors/{connector_name}/management/v3/edrs/{transfer_id}/dataaddress\"\n",
    "\n",
    "response = requests.get(url, headers=token_header)\n",
    "response.raise_for_status()\n",
    "\n",
    "print(f\"EDR data:\\n\")\n",
    "pprint(response.json())\n",
    "\n",
    "access_token = response.json()[\"authorization\"]\n",
    "endpoint = response.json()[\"endpoint\"]"
   ]
  },
  {
   "cell_type": "markdown",
   "metadata": {},
   "source": [
    "# Access the API\n",
    "\n",
    "Now you can use the access token to make requests to the offered API. Your request will go to the provider's Connector which will confirm the existence and validity of the associated Agreeement and then reroute your request to the API. Finally the Connector will send back the response of the API."
   ]
  },
  {
   "cell_type": "code",
   "execution_count": null,
   "metadata": {},
   "outputs": [],
   "source": [
    "headers = {\"Authorization\": access_token}\n",
    "\n",
    "payload = {\n",
    "    \"test\": \"This is a test.\"\n",
    "}\n",
    "\n",
    "endpoint = f\"{base_url}/backend/connectors/alice/public\"\n",
    "response = requests.post(endpoint, headers=headers, json=payload)\n",
    "\n",
    "print(\"Response:\")\n",
    "pprint(response.json())"
   ]
  }
 ],
 "metadata": {
  "kernelspec": {
   "display_name": "base",
   "language": "python",
   "name": "python3"
  },
  "language_info": {
   "codemirror_mode": {
    "name": "ipython",
    "version": 3
   },
   "file_extension": ".py",
   "mimetype": "text/x-python",
   "name": "python",
   "nbconvert_exporter": "python",
   "pygments_lexer": "ipython3",
   "version": "3.12.3"
  }
 },
 "nbformat": 4,
 "nbformat_minor": 2
}
