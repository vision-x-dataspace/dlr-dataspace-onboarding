{
 "cells": [
  {
   "cell_type": "markdown",
   "metadata": {},
   "source": [
    "# Offer File (AmazonS3)\n",
    "\n",
    "With this notebook you can create an offer for a file contained in an `AmazonS3` storage in the Dataspace."
   ]
  },
  {
   "cell_type": "markdown",
   "metadata": {},
   "source": [
    "## Preperation\n",
    "\n",
    "Here some values are initialized that will be necessary for the other steps."
   ]
  },
  {
   "cell_type": "markdown",
   "metadata": {},
   "source": [
    "\n",
    "### Set up\n",
    "\n",
    "Import the requests module and assign the base url of the Dataspace as a variable."
   ]
  },
  {
   "cell_type": "code",
   "execution_count": null,
   "metadata": {},
   "outputs": [],
   "source": [
    "import requests\n",
    "\n",
    "base_url = \"https://vision-x-api.base-x-ecosystem.org\""
   ]
  },
  {
   "cell_type": "markdown",
   "metadata": {},
   "source": [
    "### Fill in Values\n",
    "\n",
    "Fill in the values for the variables below."
   ]
  },
  {
   "cell_type": "code",
   "execution_count": null,
   "metadata": {},
   "outputs": [],
   "source": [
    "# Your JWT recevied from Keycloak via vision-x-auth.base-x-ecosystem.org\n",
    "token = \"ey...\"\n",
    "token_header = {\"Authorization\": f\"Bearer {token}\"}\n",
    "# The name of your Connector\n",
    "connector_name = \"my-connector\"\n",
    "# The URL of your AmazonS3 storage\n",
    "aws_url = \"https://s3.us-east-1.amazonaws.com\"\n",
    "# The region of your AmazonS3 storage\n",
    "aws_region = \"us-east-1\"\n",
    "# The username (Access Key ID) of your AmazonS3 storage account\n",
    "aws_username = \"my-access-key-id\"\n",
    "# The password (Secret Access ID) of your AmazonS3 storage account\n",
    "aws_password = \"my-secret-access-key\"\n",
    "# The bucket where your file is located\n",
    "aws_bucket = \"my-bucket\"\n",
    "# The name of the file\n",
    "filename = \"my-file.txt\""
   ]
  },
  {
   "cell_type": "markdown",
   "metadata": {},
   "source": [
    "## Create Asset\n",
    "\n",
    "Here you create an Asset for the file you want to offer. The Asset on one hand describes what kind of data is offered (properties) and on the other hand how the Connector can eventually retrieve the data to transfer it (dataAddress). However, this will be not be available for others as an Offer just yet."
   ]
  },
  {
   "cell_type": "markdown",
   "metadata": {},
   "source": [
    "Choose a unique id for your Asset."
   ]
  },
  {
   "cell_type": "code",
   "execution_count": null,
   "metadata": {},
   "outputs": [],
   "source": [
    "# Some unique ID\n",
    "asset_id = \"my-asset-id\""
   ]
  },
  {
   "cell_type": "markdown",
   "metadata": {},
   "source": [
    "Creates an Asset with the given values."
   ]
  },
  {
   "cell_type": "code",
   "execution_count": null,
   "metadata": {},
   "outputs": [],
   "source": [
    "url = f\"{base_url}/connectors/{connector_name}/cp/management/v3/assets\"\n",
    "payload = {\n",
    "  \"@context\": {},\n",
    "  \"@id\": asset_id,\n",
    "  \"properties\": {\n",
    "    \"name\": f\"File {filename}\",\n",
    "    \"description\": \"File offer example with AmazonS3\",\n",
    "    \"offerType\": \"data\"\n",
    "  },\n",
    "  \"dataAddress\": {\n",
    "    \"@type\": \"DataAddress\",\n",
    "    \"type\": \"AmazonS3\",\n",
    "    \"objectName\": filename,\n",
    "    \"region\": aws_region,\n",
    "    \"bucketName\": aws_bucket,\n",
    "    \"endpointOverride\": aws_url,\n",
    "    \"accessKeyId\": aws_username,\n",
    "    \"secretAccessKey\": aws_password\n",
    "  }\n",
    "}\n",
    "\n",
    "response = requests.post(url, json=payload, headers=token_header)\n",
    "response.raise_for_status()\n",
    "print(f\"Created Asset with ID: {asset_id}\")"
   ]
  },
  {
   "cell_type": "markdown",
   "metadata": {},
   "source": [
    "## Create Policy\n",
    "\n",
    "Here you create a Policy which is basically a collection of terms and conditions. This will later be \"assigned\" to the Asset in order to make it available for others given they meet the conditions."
   ]
  },
  {
   "cell_type": "markdown",
   "metadata": {},
   "source": [
    "Choose a unique id for your Policy."
   ]
  },
  {
   "cell_type": "code",
   "execution_count": null,
   "metadata": {},
   "outputs": [],
   "source": [
    "# Some unique ID\n",
    "policy_id = \"my-policy-id\""
   ]
  },
  {
   "cell_type": "markdown",
   "metadata": {},
   "source": [
    "Choose a policy. Here a policy allowing anyone access is chosen."
   ]
  },
  {
   "cell_type": "code",
   "execution_count": null,
   "metadata": {},
   "outputs": [],
   "source": [
    "# Some ODRL policy\n",
    "policy = {\n",
    "  \"@type\": \"odrl:Set\",\n",
    "  \"odrl:permission\": [\n",
    "    {\n",
    "      \"odrl:action\": \"USE\"\n",
    "    }\n",
    "  ]\n",
    "}"
   ]
  },
  {
   "cell_type": "markdown",
   "metadata": {},
   "source": [
    "Creates a Policy with the given values."
   ]
  },
  {
   "cell_type": "code",
   "execution_count": null,
   "metadata": {},
   "outputs": [],
   "source": [
    "url = f\"{base_url}/connectors/{connector_name}/cp/management/v3/policydefinitions\"\n",
    "payload = {\n",
    "  \"@context\": {\n",
    "    \"odrl\": \"http://www.w3.org/ns/odrl/2/\"\n",
    "  },\n",
    "  \"@id\": policy_id,\n",
    "  \"policy\": policy\n",
    "}\n",
    "\n",
    "response = requests.post(url, json=payload, headers=token_header)\n",
    "response.raise_for_status()\n",
    "print(f\"Created Policy with ID: {policy_id}\")"
   ]
  },
  {
   "cell_type": "markdown",
   "metadata": {},
   "source": [
    "## Create Contract Definition"
   ]
  },
  {
   "cell_type": "markdown",
   "metadata": {},
   "source": [
    "Here you create a Contract whose role it is to assign Policies to Assets. The contract's \"Access Policy\" sets the terms and conditions under which the Asset will be visible as an Offer in the Catalog and the \"Contract Policy\" sets the terms and conditions under which the Negotiation for an Offer will be agreed. The \"Assets Selector\" determines to which Assets the Policies are \"assigned\" to."
   ]
  },
  {
   "cell_type": "markdown",
   "metadata": {},
   "source": [
    "Choose a unique id for your Policy."
   ]
  },
  {
   "cell_type": "code",
   "execution_count": null,
   "metadata": {},
   "outputs": [],
   "source": [
    "# Some unique ID\n",
    "contract_id = \"my-contract-id\""
   ]
  },
  {
   "cell_type": "markdown",
   "metadata": {},
   "source": [
    "Creates a Contract with the given values."
   ]
  },
  {
   "cell_type": "code",
   "execution_count": null,
   "metadata": {},
   "outputs": [],
   "source": [
    "url = f\"{base_url}/connectors/{connector_name}/cp/management/v3/contractdefinitions\"\n",
    "payload = {\n",
    "  \"@context\": {\n",
    "    \"odrl\": \"http://www.w3.org/ns/odrl/2/\"\n",
    "  },\n",
    "  \"@id\": contract_id,\n",
    "  \"accessPolicyId\": \"all\",\n",
    "  \"contractPolicyId\": policy_id,\n",
    "  \"assetsSelector\": {\n",
    "    \"operandLeft\": \"https://w3id.org/edc/v0.0.1/ns/id\",\n",
    "    \"operator\": \"=\",\n",
    "    \"operandRight\": asset_id\n",
    "  }\n",
    "}\n",
    "\n",
    "response = requests.post(url, json=payload, headers=token_header)\n",
    "response.raise_for_status()\n",
    "print(f\"Created Contract Definition with ID: {contract_id}\")"
   ]
  },
  {
   "cell_type": "markdown",
   "metadata": {},
   "source": [
    "If everything was successful the Asset will be now available to others as an Offer in your Catalog."
   ]
  }
 ],
 "metadata": {
  "kernelspec": {
   "display_name": "base",
   "language": "python",
   "name": "python3"
  },
  "language_info": {
   "codemirror_mode": {
    "name": "ipython",
    "version": 3
   },
   "file_extension": ".py",
   "mimetype": "text/x-python",
   "name": "python",
   "nbconvert_exporter": "python",
   "pygments_lexer": "ipython3",
   "version": "3.12.3"
  }
 },
 "nbformat": 4,
 "nbformat_minor": 2
}
