{
 "cells": [
  {
   "cell_type": "markdown",
   "metadata": {},
   "source": [
    "# Transfer HTTP (Pull)\n",
    "\n",
    "With this notebook you can send request to an offered service."
   ]
  },
  {
   "cell_type": "markdown",
   "metadata": {},
   "source": [
    "## Preperation\n",
    "\n",
    "Here some values are initialized that will be necessary for the other steps. Unlike in the HTTP Push, here you will not be able to use a preexisting regular agreement. Instead the Negotiation and Transfer will be handled via the EDR (Endpoint Data Reference) endpoints. For more information, see [TractusX-EDC Walkthrough](https://github.com/eclipse-tractusx/tractusx-edc/blob/0.9.0/docs/usage/management-api-walkthrough/07_edrs.md)."
   ]
  },
  {
   "cell_type": "markdown",
   "metadata": {},
   "source": [
    "\n",
    "### Set up\n",
    "\n",
    "Import the requests module and assing the base url of the Dataspace as a variable."
   ]
  },
  {
   "cell_type": "code",
   "execution_count": null,
   "metadata": {},
   "outputs": [],
   "source": [
    "from pprint import pprint\n",
    "import requests\n",
    "\n",
    "base_url = \"https://vision-x-api.base-x-ecosystem.org\""
   ]
  },
  {
   "cell_type": "markdown",
   "metadata": {},
   "source": [
    "### Fill in Values\n",
    "\n",
    "Fill in the values for the variables below."
   ]
  },
  {
   "cell_type": "code",
   "execution_count": null,
   "metadata": {},
   "outputs": [],
   "source": [
    "# Your JWT recevied from Keycloak via vision-x-auth.base-x-ecosystem.org\n",
    "token = \"ey...\"\n",
    "token_header = {\"Authorization\": f\"Bearer {token}\"}\n",
    "# The name of your Connector\n",
    "connector_name = \"my-connector\"\n",
    "# The BPN of the Connector providing the offer\n",
    "provider_id = \"BPNL123456789ABC\" \n",
    "# The DSP address of the Connector providing the offer\n",
    "originator = \"https://vision-x-api.base-x-ecosystem.org/connectors/alice/cp/protocol\"\n",
    "# The policy of the offer\n",
    "policy = {\n",
    "    \"@id\": \"some-uuid:some-uuid:some-uuid\",\n",
    "    \"@type\": \"odrl:Offer\",\n",
    "    \"odrl:permission\": [],\n",
    "    \"odrl:prohibition\": [],\n",
    "    \"odrl:obligation\": []\n",
    "}\n",
    "# The ID of the Asset in the offer\n",
    "offered_asset_id = \"some-random-uuid\""
   ]
  },
  {
   "cell_type": "markdown",
   "metadata": {},
   "source": [
    "## Initiate EDR Negotiation"
   ]
  },
  {
   "cell_type": "markdown",
   "metadata": {},
   "source": [
    "Here you start an EDR Negotiation for the Offer chosen in the previous step. This performs the usual Negotiation and Tranfer in such a way that you can later retrieve access tokens. If the given conditions are satisfied the EDR Negotiation will succeed and an Agreement will be created."
   ]
  },
  {
   "cell_type": "markdown",
   "metadata": {},
   "source": [
    "Starts the EDR Negotiation using the values got from the previous step."
   ]
  },
  {
   "cell_type": "code",
   "execution_count": null,
   "metadata": {},
   "outputs": [],
   "source": [
    "url = f\"{base_url}/connectors/{connector_name}/cp/management/v3/edrs\"\n",
    "payload = {\n",
    "\t\"@context\": {\n",
    "\t\t\"odrl\": \"http://www.w3.org/ns/odrl/2/\"\n",
    "\t},\n",
    "\t\"counterPartyAddress\": originator,\n",
    "\t\"protocol\": \"dataspace-protocol-http\",\n",
    "\t\"policy\": policy | {\"odrl:assigner\": {\"@id\": provider_id}, \"odrl:target\": {\"@id\": offered_asset_id}}\n",
    "}\n",
    "\n",
    "response = requests.post(url, json=payload, headers=token_header)\n",
    "response.raise_for_status()\n",
    "\n",
    "negotiation_id = response.json()[\"@id\"]\n",
    "print(f\"Started EDR Negotiation with ID: {negotiation_id}\")"
   ]
  },
  {
   "cell_type": "markdown",
   "metadata": {},
   "source": [
    "As mentioned the EDR starts a Negotiation and a Transfer. Information about the Negotiation can be easily accessed by the below request since we know its ID from the previous step. However, for the transfer we do not know the ID so it is not as easy to get information on it at this point."
   ]
  },
  {
   "cell_type": "code",
   "execution_count": null,
   "metadata": {},
   "outputs": [],
   "source": [
    "url = f\"{base_url}/connectors/{connector_name}/cp/management/v3/contractnegotiations/{negotiation_id}\"\n",
    "\n",
    "response = requests.get(url, headers=token_header)\n",
    "response.raise_for_status()\n",
    "print(f\"Negotiation data:\\n\")\n",
    "pprint(response.json())"
   ]
  },
  {
   "cell_type": "markdown",
   "metadata": {},
   "source": [
    "## Get EDR\n",
    "\n",
    "Here you will get the access token."
   ]
  },
  {
   "cell_type": "markdown",
   "metadata": {},
   "source": [
    "Gets all EDRs for the chosen asset."
   ]
  },
  {
   "cell_type": "code",
   "execution_count": null,
   "metadata": {},
   "outputs": [],
   "source": [
    "url = f\"{base_url}/connectors/{connector_name}/cp/management/v3/edrs/request\"\n",
    "payload = {\n",
    "  \"@context\": {},\n",
    "  \"@type\": \"QuerySpec\",\n",
    "  \"filterExpression\": [\n",
    "        {\n",
    "            \"operandLeft\": \"assetId\",\n",
    "            \"operator\": \"=\",\n",
    "            \"operandRight\": offered_asset_id\n",
    "        }\n",
    "        \n",
    "    ]\n",
    "}\n",
    "\n",
    "response = requests.post(url, json=payload, headers=token_header)\n",
    "response.raise_for_status()\n",
    "\n",
    "print(f\"EDRs data:\\n\")\n",
    "pprint(response.json())\n",
    "\n",
    "transfer_id = response.json()[0][\"transferProcessId\"]"
   ]
  },
  {
   "cell_type": "markdown",
   "metadata": {},
   "source": [
    "Uses the Transfer Id from the previous step to get the acccess token."
   ]
  },
  {
   "cell_type": "code",
   "execution_count": null,
   "metadata": {},
   "outputs": [],
   "source": [
    "url = f\"{base_url}/connectors/{connector_name}/cp/management/v3/edrs/{transfer_id}/dataaddress\"\n",
    "\n",
    "response = requests.get(url, headers=token_header)\n",
    "response.raise_for_status()\n",
    "\n",
    "print(f\"EDR data:\\n\")\n",
    "pprint(response.json())\n",
    "\n",
    "access_token = response.json()[\"authorization\"]\n",
    "endpoint = response.json()[\"endpoint\"]"
   ]
  },
  {
   "cell_type": "markdown",
   "metadata": {},
   "source": [
    "# Access the Service\n",
    "\n",
    "Now you can use the access token to make requests to the offered service. Your request will go to the provider's Connector which will confirm the existence and validity of the associated Agreeement and then reroute your request to the service. Finally the Connector will send back the response of the service."
   ]
  },
  {
   "cell_type": "code",
   "execution_count": null,
   "metadata": {},
   "outputs": [],
   "source": [
    "headers = {\"Authorization\": access_token}\n",
    "\n",
    "payload = {\n",
    "    \"test\": \"This is a test.\"\n",
    "}\n",
    "\n",
    "response = requests.post(endpoint, headers=headers, json=payload)\n",
    "\n",
    "print(\"Response:\")\n",
    "pprint(response.json())"
   ]
  },
  {
   "cell_type": "markdown",
   "metadata": {},
   "source": [
    "If everything was successful you should now be able to see the response from the service."
   ]
  }
 ],
 "metadata": {
  "kernelspec": {
   "display_name": "base",
   "language": "python",
   "name": "python3"
  },
  "language_info": {
   "codemirror_mode": {
    "name": "ipython",
    "version": 3
   },
   "file_extension": ".py",
   "mimetype": "text/x-python",
   "name": "python",
   "nbconvert_exporter": "python",
   "pygments_lexer": "ipython3",
   "version": "3.12.3"
  }
 },
 "nbformat": 4,
 "nbformat_minor": 2
}
