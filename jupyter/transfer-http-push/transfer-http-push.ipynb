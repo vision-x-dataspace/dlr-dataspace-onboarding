{
 "cells": [
  {
   "cell_type": "markdown",
   "metadata": {},
   "source": [
    "# Transfer HTTP (Push)\n",
    "\n",
    "With this notebook you can transfer data from an offer for which you already have an Agreement to an `HTTP` endpoint."
   ]
  },
  {
   "cell_type": "markdown",
   "metadata": {},
   "source": [
    "## Preperation\n",
    "\n",
    "Here some values are initialized that will be necessary for the other steps."
   ]
  },
  {
   "cell_type": "markdown",
   "metadata": {},
   "source": [
    "\n",
    "### Set up\n",
    "\n",
    "Import the requests module and assign the base url of the Dataspace as a variable."
   ]
  },
  {
   "cell_type": "code",
   "execution_count": null,
   "metadata": {},
   "outputs": [],
   "source": [
    "from pprint import pprint\n",
    "import requests\n",
    "\n",
    "base_url = \"https://vision-x-api.base-x-ecosystem.org\""
   ]
  },
  {
   "cell_type": "markdown",
   "metadata": {},
   "source": [
    "### Fill in Values\n",
    "\n",
    "Fill in the values for the variables below."
   ]
  },
  {
   "cell_type": "code",
   "execution_count": null,
   "metadata": {},
   "outputs": [],
   "source": [
    "# Your JWT recevied from Keycloak via vision-x-auth.base-x-ecosystem.org\n",
    "token = \"ey...\"\n",
    "token_header = {\"Authorization\": f\"Bearer {token}\"}\n",
    "# The name of your Connector\n",
    "connector_name = \"my-connector\"\n",
    "# The URL of your endpoint where the data should be sent to\n",
    "endpoint_url = \"https://my-endpoint.requestcatcher.com\"\n",
    "# The DSP address of the Connector providing the offer\n",
    "originator = \"https://vision-x-api.base-x-ecosystem.org/connectors/alice/cp/protocol\"\n",
    "# The ID of the Agreement for the offer\n",
    "agreement_id = \"some-random-uuid\""
   ]
  },
  {
   "cell_type": "markdown",
   "metadata": {},
   "source": [
    "## Initiate Transfer\n",
    "\n",
    "Here you will request for the transfer of the data to your endpoint."
   ]
  },
  {
   "cell_type": "markdown",
   "metadata": {},
   "source": [
    "Initiates the transfer."
   ]
  },
  {
   "cell_type": "code",
   "execution_count": null,
   "metadata": {},
   "outputs": [],
   "source": [
    "url = f\"{base_url}/connectors/{connector_name}/cp/management/v3/transferprocesses\"\n",
    "payload = {\n",
    "  \"@context\": {\n",
    "    \"odrl\": \"http://www.w3.org/ns/odrl/2/\"\n",
    "  },\n",
    "  \"counterPartyAddress\": originator,\n",
    "  \"contractId\": agreement_id,\n",
    "  \"transferType\": \"HttpData-PUSH\",\n",
    "  \"dataDestination\": {\n",
    "    \"type\": \"HttpData\",\n",
    "    \"baseUrl\": endpoint_url,\n",
    "  },\n",
    "  \"protocol\": \"dataspace-protocol-http\"\n",
    "}\n",
    "\n",
    "response = requests.post(url, json=payload, headers=token_header)\n",
    "print(response.content)\n",
    "response.raise_for_status()\n",
    "\n",
    "transfer_id = response.json()[\"@id\"]\n",
    "print(f\"Started Transfer with ID: {transfer_id}\")"
   ]
  },
  {
   "cell_type": "markdown",
   "metadata": {},
   "source": [
    "Confirms that the transfer succeeded."
   ]
  },
  {
   "cell_type": "code",
   "execution_count": null,
   "metadata": {},
   "outputs": [],
   "source": [
    "url = f\"{base_url}/connectors/{connector_name}/cp/management/v3/transferprocesses/{transfer_id}\"\n",
    "\n",
    "response = requests.get(url, headers=token_header)\n",
    "response.raise_for_status()\n",
    "print(f\"Transfer data:\\n\")\n",
    "pprint(response.json())"
   ]
  },
  {
   "cell_type": "markdown",
   "metadata": {},
   "source": [
    "If everything was successful the data should now have been sent to your endpoint."
   ]
  }
 ],
 "metadata": {
  "kernelspec": {
   "display_name": "base",
   "language": "python",
   "name": "python3"
  },
  "language_info": {
   "codemirror_mode": {
    "name": "ipython",
    "version": 3
   },
   "file_extension": ".py",
   "mimetype": "text/x-python",
   "name": "python",
   "nbconvert_exporter": "python",
   "pygments_lexer": "ipython3",
   "version": "3.12.3"
  }
 },
 "nbformat": 4,
 "nbformat_minor": 2
}
