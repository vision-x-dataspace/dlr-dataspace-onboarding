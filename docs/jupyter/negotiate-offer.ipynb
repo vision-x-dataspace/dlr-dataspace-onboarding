{
 "cells": [
  {
   "cell_type": "markdown",
   "metadata": {},
   "source": [
    "# Negotiate Offer\n",
    "\n",
    "With this notebook you can start a Negotiation for an existing offer and thus generate an Agreement."
   ]
  },
  {
   "cell_type": "markdown",
   "metadata": {},
   "source": [
    "## Preperation\n",
    "\n",
    "Here some values are initialized that will be necessary for the other steps."
   ]
  },
  {
   "cell_type": "markdown",
   "metadata": {},
   "source": [
    "\n",
    "### Set up\n",
    "\n",
    "Import the requests module and assign the base url of the Dataspace as a variable."
   ]
  },
  {
   "cell_type": "code",
   "execution_count": null,
   "metadata": {},
   "outputs": [],
   "source": [
    "from pprint import pprint\n",
    "import requests\n",
    "\n",
    "base_url = \"https://vision-x-api.base-x-ecosystem.org\""
   ]
  },
  {
   "cell_type": "markdown",
   "metadata": {},
   "source": [
    "### Fill in Values\n",
    "\n",
    "Fill in the values for the variables below."
   ]
  },
  {
   "cell_type": "code",
   "execution_count": null,
   "metadata": {},
   "outputs": [],
   "source": [
    "# Your JWT recevied from Keycloak via vision-x-auth.base-x-ecosystem.org\n",
    "token = \"ey...\"\n",
    "token_header = {\"Authorization\": f\"Bearer {token}\"}\n",
    "# The name of your Connector\n",
    "connector_name = \"my-connector\""
   ]
  },
  {
   "cell_type": "markdown",
   "metadata": {},
   "source": [
    "## Get Federated Catalog\n",
    "\n",
    "Here you get the contents of the Federated Catalog and then choose an Offer you want to negotiate for."
   ]
  },
  {
   "cell_type": "markdown",
   "metadata": {},
   "source": [
    "Gets and prints out the relevant conents of the Federated Catalog."
   ]
  },
  {
   "cell_type": "code",
   "execution_count": null,
   "metadata": {},
   "outputs": [],
   "source": [
    "url = f\"{base_url}/federated/catalog\"\n",
    "\n",
    "response = requests.get(url)\n",
    "response.raise_for_status()\n",
    "print(\"Got the federated catalog\")\n",
    "\n",
    "federated_catalog = response.json()\n",
    "for catalog in federated_catalog:\n",
    "  print(f\"Catalog from {catalog['originator']}\")\n",
    "  datasets = catalog[\"dcat:dataset\"]\n",
    "  if not isinstance(datasets, list):\n",
    "    datasets = [datasets]\n",
    "  for dataset in datasets:\n",
    "    if \"name\" not in dataset:\n",
    "      continue\n",
    "    print(f\"    Offer for {dataset['name']}\")"
   ]
  },
  {
   "cell_type": "markdown",
   "metadata": {},
   "source": [
    "Pick out an Offer from the printed ones and fill in the below values for the variables accordingly."
   ]
  },
  {
   "cell_type": "code",
   "execution_count": null,
   "metadata": {},
   "outputs": [],
   "source": [
    "catalog_from = \"some-catalog-from\"\n",
    "offer_for = \"some-offer-name\""
   ]
  },
  {
   "cell_type": "markdown",
   "metadata": {},
   "source": [
    "Gets the necessary data about the chosen Offer from the Federated Catalog in order to start a Negotiation and an eventual Transfer in the next steps."
   ]
  },
  {
   "cell_type": "code",
   "execution_count": null,
   "metadata": {},
   "outputs": [],
   "source": [
    "for catalog in federated_catalog:\n",
    "  if catalog[\"originator\"] != catalog_from:\n",
    "    continue\n",
    "  datasets = catalog[\"dcat:dataset\"]\n",
    "  if not isinstance(datasets, list):\n",
    "    datasets = [datasets]\n",
    "  for dataset in datasets:\n",
    "    if not \"name\" in dataset or dataset[\"name\"] != offer_for:\n",
    "      continue\n",
    "    provider_id = catalog[\"dspace:participantId\"]\n",
    "    originator = catalog[\"originator\"]\n",
    "    policy = dataset[\"odrl:hasPolicy\"]\n",
    "    offered_asset_id = dataset[\"id\"]\n",
    "\n",
    "print(\"Got necessary values\\n\")\n",
    "\n",
    "print(f\"ProviderId:  {provider_id}\")\n",
    "print(f\"Originator: {originator}\")\n",
    "print(f\"Policy: {policy}\")\n",
    "print(f\"OfferedAssetId: {offered_asset_id}\")"
   ]
  },
  {
   "cell_type": "markdown",
   "metadata": {},
   "source": [
    "## Initiate Negotiation"
   ]
  },
  {
   "cell_type": "markdown",
   "metadata": {},
   "source": [
    "Here you start a Negotiation for the Offer chosen in the previous step. If the given conditions are satisfied the Negotiation will succeed and an Agreement will be created."
   ]
  },
  {
   "cell_type": "markdown",
   "metadata": {},
   "source": [
    "Starts the Negotiation using the values got from the previous step."
   ]
  },
  {
   "cell_type": "code",
   "execution_count": null,
   "metadata": {},
   "outputs": [],
   "source": [
    "url = f\"{base_url}/connectors/{connector_name}/cp/management/v3/contractnegotiations\"\n",
    "payload = {\n",
    "  \"@context\": {\n",
    "    \"odrl\": \"http://www.w3.org/ns/odrl/2/\"\n",
    "  },\n",
    "  \"counterPartyAddress\": originator,\n",
    "  \"protocol\": \"dataspace-protocol-http\",\n",
    "  \"policy\": policy[0] | {\"odrl:assigner\": {\"@id\": provider_id}, \"odrl:target\": {\"@id\": offered_asset_id}}\n",
    "}\n",
    "\n",
    "response = requests.post(url, json=payload, headers=token_header)\n",
    "print(response.content)\n",
    "response.raise_for_status()\n",
    "\n",
    "negotiation_id = response.json()[\"@id\"]\n",
    "print(f\"Started Negotiation with ID: {negotiation_id}\")"
   ]
  },
  {
   "cell_type": "markdown",
   "metadata": {},
   "source": [
    "Wait a few seconds."
   ]
  },
  {
   "cell_type": "markdown",
   "metadata": {},
   "source": [
    "Confirms that the Negotiation succeeded and get the ID corresponding Agreement which will be needed for the eventual Transfer."
   ]
  },
  {
   "cell_type": "code",
   "execution_count": null,
   "metadata": {},
   "outputs": [],
   "source": [
    "url = f\"{base_url}/connectors/{connector_name}/cp/management/v3/contractnegotiations/{negotiation_id}\"\n",
    "\n",
    "response = requests.get(url, headers=token_header)\n",
    "response.raise_for_status()\n",
    "print(f\"Negotiation data:\\n\")\n",
    "pprint(response.json())\n",
    "\n",
    "agreement_id = response.json()[\"contractAgreementId\"]\n",
    "\n",
    "print(f\"Originator: {originator}\")\n",
    "print(f\"Agreement ID: {agreement_id}\")"
   ]
  },
  {
   "cell_type": "markdown",
   "metadata": {},
   "source": [
    "If everything was successful you should now have gotten the releveant information for starting a Transfer. If you get an error it might be that the Negotiation has not finished yet or was rejected."
   ]
  }
 ],
 "metadata": {
  "kernelspec": {
   "display_name": "base",
   "language": "python",
   "name": "python3"
  },
  "language_info": {
   "codemirror_mode": {
    "name": "ipython",
    "version": 3
   },
   "file_extension": ".py",
   "mimetype": "text/x-python",
   "name": "python",
   "nbconvert_exporter": "python",
   "pygments_lexer": "ipython3",
   "version": "3.12.3"
  }
 },
 "nbformat": 4,
 "nbformat_minor": 2
}
