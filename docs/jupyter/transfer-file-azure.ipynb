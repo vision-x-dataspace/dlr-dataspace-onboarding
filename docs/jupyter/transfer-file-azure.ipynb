{
 "cells": [
  {
   "cell_type": "markdown",
   "metadata": {},
   "source": [
    "# Transfer File (AzureStorage)\n",
    "\n",
    "With this notebook you can transfer an offered file for which you already have an Agreement to an `AzureStorage` storage.\n",
    "\n",
    "WARNING: Due to a [known bug](https://github.com/eclipse-tractusx/tractusx-edc/issues/1884) in the TractusX-EDC, the transfer will not succeed and instead corrupt your Connector's database. Proceed with caution."
   ]
  },
  {
   "cell_type": "markdown",
   "metadata": {},
   "source": [
    "## Preperation\n",
    "\n",
    "Here some values are initialized that will be necessary for the other steps."
   ]
  },
  {
   "cell_type": "markdown",
   "metadata": {},
   "source": [
    "\n",
    "### Set up\n",
    "\n",
    "Import the requests module and assign the base url of the Dataspace as a variable."
   ]
  },
  {
   "cell_type": "code",
   "execution_count": null,
   "metadata": {},
   "outputs": [],
   "source": [
    "from pprint import pprint\n",
    "import requests\n",
    "\n",
    "base_url = \"https://vision-x-api.base-x-ecosystem.org\""
   ]
  },
  {
   "cell_type": "markdown",
   "metadata": {},
   "source": [
    "### Fill in Values\n",
    "\n",
    "Fill in the values for the variables below.\n",
    "\n",
    "Note that unlike the `AmazonS3` example, here you can not provide the URL of your storage directly. Neither can you specify your password (Account Key). Instead the URL is a Connector wide setting which can only be configured when creating or editing a Connector. Additionally, instaed of a providing a password a SAS token is retrieved from the vault. For this you will need to manually generate a SAS token and put it into the vault as a JSON string.\n",
    "\n",
    "An example SAS token as a JSON string to put into the vault is provided here\n",
    "```json\n",
    "{\n",
    "    \"edctype\": \"dataspaceconnector:azuretoken\",\n",
    "    \"sas\": \"se=2025-05-20T13%3A31%3A26Z&sp=w&sv=2025-05-05&sr=c&sig=ghRxJvgnvlnN96xzc1trTj4R4cJtaH7glNnjdCXE3iQ%3D\"\n",
    "}\n",
    "```"
   ]
  },
  {
   "cell_type": "code",
   "execution_count": null,
   "metadata": {},
   "outputs": [],
   "source": [
    "# Your JWT recevied from Keycloak via vision-x-auth.base-x-ecosystem.org\n",
    "token = \"ey...\"\n",
    "token_header = {\"Authorization\": f\"Bearer {token}\"}\n",
    "# The name of your Connector\n",
    "connector_name = \"my-connector\"\n",
    "# Your account in the Azure Storage\n",
    "azure_account = \"my-account\"\n",
    "# The secret in the vault where your SAS token for Azure Storage is stored\n",
    "azure_sas = \"my-sas-secret-name\"\n",
    "# The container where the file should be stored in\n",
    "azure_container = \"my-container\"\n",
    "# The DSP address of the Connector providing the offer\n",
    "originator = \"https://vision-x-api.base-x-ecosystem.org/connectors/alice/cp/protocol\"\n",
    "# The ID of the Agreement for the offer\n",
    "agreement_id = \"some-random-uuid\""
   ]
  },
  {
   "cell_type": "markdown",
   "metadata": {},
   "source": [
    "## Initiate Transfer\n",
    "\n",
    "Here you will request for the transfer of the data to your storage."
   ]
  },
  {
   "cell_type": "markdown",
   "metadata": {},
   "source": [
    "Initiates the Transfer."
   ]
  },
  {
   "cell_type": "code",
   "execution_count": null,
   "metadata": {},
   "outputs": [],
   "source": [
    "url = f\"{base_url}/connectors/{connector_name}/cp/management/v3/transferprocesses\"\n",
    "payload = {\n",
    "  \"@context\": {\n",
    "    \"odrl\": \"http://www.w3.org/ns/odrl/2/\"\n",
    "  },\n",
    "  \"counterPartyAddress\": originator,\n",
    "  \"contractId\": agreement_id,\n",
    "  \"transferType\": \"AmazonS3-PUSH\",\n",
    "  \"dataDestination\": {\n",
    "    \"type\": \"AmazonS3\",\n",
    "    \"container\": azure_container,\n",
    "    \"account\": azure_account,\n",
    "    \"keyName\": azure_sas,\n",
    "  },\n",
    "  \"protocol\": \"dataspace-protocol-http\"\n",
    "}\n",
    "\n",
    "response = requests.post(url, json=payload, headers=token_header)\n",
    "print(response.content)\n",
    "response.raise_for_status()\n",
    "\n",
    "transfer_id = response.json()[\"@id\"]\n",
    "print(f\"Started Transfer with ID: {transfer_id}\")"
   ]
  },
  {
   "cell_type": "markdown",
   "metadata": {},
   "source": [
    "Confirms that the Transfer succeeded."
   ]
  },
  {
   "cell_type": "code",
   "execution_count": null,
   "metadata": {},
   "outputs": [],
   "source": [
    "url = f\"{base_url}/connectors/{connector_name}/cp/management/v3/transferprocesses/{transfer_id}\"\n",
    "\n",
    "response = requests.get(url, headers=token_header)\n",
    "response.raise_for_status()\n",
    "print(f\"Transfer data:\\n\")\n",
    "pprint(response.json())"
   ]
  },
  {
   "cell_type": "markdown",
   "metadata": {},
   "source": [
    "If everything was successful the file should now be in your storage."
   ]
  }
 ],
 "metadata": {
  "kernelspec": {
   "display_name": "base",
   "language": "python",
   "name": "python3"
  },
  "language_info": {
   "codemirror_mode": {
    "name": "ipython",
    "version": 3
   },
   "file_extension": ".py",
   "mimetype": "text/x-python",
   "name": "python",
   "nbconvert_exporter": "python",
   "pygments_lexer": "ipython3",
   "version": "3.12.3"
  }
 },
 "nbformat": 4,
 "nbformat_minor": 2
}
